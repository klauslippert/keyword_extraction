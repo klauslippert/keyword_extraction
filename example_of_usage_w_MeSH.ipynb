{
 "cells": [
  {
   "cell_type": "markdown",
   "metadata": {},
   "source": [
    "# keyword_extraction\n",
    "\n",
    "### extracting keywords (e.g. MeSH terms) from a text using a simple dictionary lookup approach.\n",
    "\n",
    "library **keyword_extraction** offers you:\n",
    " * **DictLU_Create_Dict**: creating english, german, french dictionaries for the lookup\n",
    " * **DictLU_Extract_Exact**\n",
    "   *  **.fast**: break after the first occurance in the text  \n",
    "   *  **.full**: all occurances in the text, including index\n"
   ]
  },
  {
   "cell_type": "code",
   "execution_count": null,
   "metadata": {},
   "outputs": [],
   "source": []
  },
  {
   "cell_type": "code",
   "execution_count": null,
   "metadata": {},
   "outputs": [],
   "source": []
  },
  {
   "cell_type": "code",
   "execution_count": 301,
   "metadata": {},
   "outputs": [],
   "source": [
    "import pandas as pd\n",
    "import pickle\n",
    "from pprint import pprint\n",
    "import xmltodict\n",
    "from IPython.core.display import display, HTML"
   ]
  },
  {
   "cell_type": "code",
   "execution_count": null,
   "metadata": {},
   "outputs": [],
   "source": []
  },
  {
   "cell_type": "markdown",
   "metadata": {},
   "source": [
    "# 1. from raw data to lookup list\n",
    "get the MeSH terms raw data\n",
    "\n",
    "* **english, german**: as 'Datenbankfassung' (csv-files) from [DIMDI](https://www.dimdi.de/dynamic/de/klassifikationen/weitere-klassifikationen-und-standards/mesh/)\n",
    "* **french**: as xml from [Inserm](http://mesh.inserm.fr/FrenchMesh/)\n",
    "\n",
    "\n",
    "\n",
    "    "
   ]
  },
  {
   "cell_type": "markdown",
   "metadata": {},
   "source": [
    "### 1.1. english"
   ]
  },
  {
   "cell_type": "code",
   "execution_count": 84,
   "metadata": {},
   "outputs": [
    {
     "name": "stdout",
     "output_type": "stream",
     "text": [
      "loaded 29351 main headings\n",
      "loaded 214879 synonyms\n",
      "    -> 244230 terms in total\n",
      "\n",
      "        id                                         term\n",
      "0  D042842        11-beta-Hydroxysteroid Dehydrogenases\n",
      "1  D043205  11-beta-Hydroxysteroid Dehydrogenase Type 1\n",
      "\n",
      "####################\n",
      "\n",
      "[('11-beta-hydroxysteroid dehydrogenase type 1', 'D043205'),\n",
      " ('11-beta-hydroxysteroid dehydrogenase type 2', 'D043209'),\n",
      " ('1,2-dihydroxybenzene-3,5-disulfonic acid disodium salt', 'D014013'),\n",
      " ('carbon-13 magnetic resonance spectroscopy', 'D066241'),\n",
      " ('15-hydroxy-11 alpha,9 alpha-(epoxymethano)prosta-5,13-dienoic acid',\n",
      "  'D019796')]\n"
     ]
    }
   ],
   "source": [
    "## read in raw data\n",
    "MH  = pd.read_csv('MH.TXT',\n",
    "                  sep=';',\n",
    "                  quotechar='|',\n",
    "                  encoding='latin1',\n",
    "                  header=None,\n",
    "                  names=['id','term_german','term','subheadings']\n",
    "                 ).drop(columns=['term_german','subheadings'])\n",
    "print(f'loaded {len(MH)} main headings')\n",
    "\n",
    "ETE = pd.read_csv('ETE.TXT',\n",
    "                  sep=';',\n",
    "                  quotechar='|',\n",
    "                  encoding='latin1',\n",
    "                  header=None,\n",
    "                  names=['term','id','term_german']\n",
    "                 ).drop(columns=['term_german'])[['id','term']]\n",
    "print(f'loaded {len(ETE)} synonyms')\n",
    "\n",
    "lookuplist = pd.concat([MH,ETE]).reset_index(drop=True)\n",
    "print(f'    -> {len(lookuplist)} terms in total\\n')\n",
    "\n",
    "print(lookuplist.head(2))\n",
    "print('\\n####################\\n')\n",
    "\n",
    "\n",
    "#you can use any DataFrame structured like this one for extracting keywords. \n",
    "#column names are mandatory. \n",
    "#be aware that the \"term\" column must be unique!\n",
    "\n",
    "\n",
    "# create dictionary\n",
    "from keyword_extraction import DictLU_Create_Dict\n",
    "\n",
    "DCC = DictLU_Create_Dict(lookuplist)\n",
    "dicts_lower = DCC.dicts_lower\n",
    "dicts_upper = DCC.dicts_upper\n",
    "\n",
    "\n",
    "pprint(list(dicts_lower[3].items())[:5])\n",
    "\n",
    "\n",
    "#what we get now is a list of dictionarys, one with word-length = 1, one with word-length = 2, etc.\n",
    "\n",
    "# - dicts_upper: only upper-case words (like 'WHO', 'HIV') \n",
    "# - dicts_lower: mixed case words\n",
    "\n",
    "#better save those dictionarys for later use\n",
    "\n",
    "\n",
    "\n",
    "with open('MeSH_dict_english.p', 'wb') as handle:\n",
    "    pickle.dump([dicts_lower,dicts_upper], handle)"
   ]
  },
  {
   "cell_type": "markdown",
   "metadata": {},
   "source": [
    "### 1.2. german"
   ]
  },
  {
   "cell_type": "code",
   "execution_count": 399,
   "metadata": {},
   "outputs": [
    {
     "name": "stdout",
     "output_type": "stream",
     "text": [
      "loaded 29351 main headings\n",
      "loaded 68789 synonyms\n",
      "    -> 98140 terms in total\n",
      "\n",
      "        id                                        term\n",
      "0  D042842       11-Beta-Hydroxysteroid-Dehydrogenasen\n",
      "1  D043205  11-Beta-Hydroxysteroid-Dehydrogenase Typ 1\n",
      "\n",
      "####################\n",
      "\n",
      "[('1-sarcosin-8-isoleucin-angiotensin ii', 'D015059'),\n",
      " ('24,25-dihydroxyvitamin d3', 'D015650'),\n",
      " ('25-hydroxyvitamin d2', 'D015652'),\n",
      " ('2h-benzo(a)quinolizin-2-ol, '\n",
      "  '2-ethyl-1,3,4,6,7,11b-hexahydro-3-isobutyl-9,10-dimethoxy',\n",
      "  'D012369'),\n",
      " ('2-oxoisovalerat-dehydrogenase (acylierend)', 'D050645')]\n"
     ]
    }
   ],
   "source": [
    "## read in raw data\n",
    "MH  = pd.read_csv('MH.TXT',\n",
    "                  sep=';',\n",
    "                  quotechar='|',\n",
    "                  encoding='latin1',\n",
    "                  header=None,\n",
    "                  names=['id','term','term_english','subheadings']\n",
    "                 ).drop(columns=['term_english','subheadings'])\n",
    "print(f'loaded {len(MH)} main headings')\n",
    "\n",
    "ETD = pd.read_csv('ETD.TXT',\n",
    "                  sep=';',\n",
    "                  quotechar='|',\n",
    "                  encoding='latin1',\n",
    "                  header=None,\n",
    "                  names=['term','id','null']\n",
    "                 )[['id','term']]\n",
    "print(f'loaded {len(ETD)} synonyms')\n",
    "\n",
    "\n",
    "lookuplist = pd.concat([MH,ETD]).reset_index(drop=True)\n",
    "## manual correction\n",
    "lookuplist.loc[lookuplist['id']=='D007060','term']='Id'\n",
    "\n",
    "\n",
    "print(f'    -> {len(lookuplist)} terms in total\\n')\n",
    "\n",
    "\n",
    "\n",
    "print(lookuplist.head(2))\n",
    "print('\\n####################\\n')\n",
    "\n",
    "# create dictionary\n",
    "from keyword_extraction import DictLU_Create_Dict\n",
    "\n",
    "DCC = DictLU_Create_Dict(lookuplist)\n",
    "dicts_lower = DCC.dicts_lower\n",
    "dicts_upper = DCC.dicts_upper\n",
    "\n",
    "\n",
    "pprint(list(dicts_lower[1].items())[:5])\n",
    "\n",
    "\n",
    "\n",
    "with open('MeSH_dict_german.p', 'wb') as handle:\n",
    "    pickle.dump([dicts_lower,dicts_upper], handle)\n",
    "\n"
   ]
  },
  {
   "cell_type": "code",
   "execution_count": null,
   "metadata": {},
   "outputs": [],
   "source": []
  },
  {
   "cell_type": "markdown",
   "metadata": {},
   "source": [
    "### 1.3. french"
   ]
  },
  {
   "cell_type": "code",
   "execution_count": 307,
   "metadata": {},
   "outputs": [],
   "source": [
    "# get raw data\n",
    "with open('fredesc2019.xml','r') as xml_obj:\n",
    "    my_dict = xmltodict.parse(xml_obj.read())\n",
    "    xml_obj.close()"
   ]
  },
  {
   "cell_type": "code",
   "execution_count": null,
   "metadata": {},
   "outputs": [],
   "source": []
  },
  {
   "cell_type": "code",
   "execution_count": 308,
   "metadata": {},
   "outputs": [
    {
     "name": "stdout",
     "output_type": "stream",
     "text": [
      "['DescriptorRecordSet']['DescriptorRecord']\n",
      "<class 'collections.OrderedDict'>\n",
      "                                      -> D000070996 Sous-famille G des transporteurs à cassette liant l'ATP[ATP Binding Cassette Transporter, Subfamily G]   ->  Sous-famille G des transporteurs à cassette liant l'ATP\n",
      "          changed to list: <class 'list'>\n",
      "    yy 0 <class 'collections.OrderedDict'>\n",
      "        cc <class 'list'>\n",
      "                                      -> T000939220 ATP Binding Cassette Transporter, Subfamily G\n",
      "                                      -> T000892291 ABCG Proteins\n",
      "                                      -> T000892292 ABCG Transporters\n",
      "                                      -> T000894708 ATP Binding Cassette Transporter, Sub-Family G\n",
      "                                      -> T000894708 ATP Binding Cassette Transporter, Sub Family G\n",
      "                                      -> fre0141546 Sous-famille G des transporteurs à cassette liant l'ATP\n",
      "                                      -> fre0141548 Protéines ABCG\n",
      "                                      -> fre0141547 Sous-famille G des transporteurs à cassette de liaison à l'ATP\n",
      "                                      -> fre0141549 Transporteurs ABCG\n"
     ]
    }
   ],
   "source": [
    "## for debugging ONE item\n",
    "\n",
    "x=my_dict['DescriptorRecordSet']['DescriptorRecord'][666]\n",
    "\n",
    "\n",
    "res=[]\n",
    "\n",
    "print(\"['DescriptorRecordSet']['DescriptorRecord']\")\n",
    "print(type(x))\n",
    "\n",
    "\n",
    "\n",
    "procname=x['DescriptorName']['String'].split('[')[0]\n",
    "print('                                      ->',x['DescriptorUI'], x['DescriptorName']['String'],'  -> ',procname)\n",
    "\n",
    "res.append((x['DescriptorUI'],'fre',procname))\n",
    "\n",
    "tt=x['ConceptList']['Concept']\n",
    "    \n",
    "if isinstance(tt,list):\n",
    "    pass\n",
    "else:\n",
    "    tt=[tt]\n",
    "    print('          changed to list:', type(tt))\n",
    "        \n",
    "    \n",
    "for ii,y in enumerate(tt):\n",
    "    print('    yy',ii,type(y))\n",
    "    #print(y)\n",
    "    cc=y['TermList']['Term']\n",
    "    print('        cc',type(cc))\n",
    "    if isinstance(cc,list):\n",
    "        pass\n",
    "    else:\n",
    "        cc=[cc]\n",
    "        print('          changed to list:', type(cc))\n",
    "        \n",
    "    for dd in cc:\n",
    "        print('                                      ->',dd['TermUI'],dd['String'])\n",
    "        res.append((x['DescriptorUI'],dd['TermUI'],dd['String']))\n",
    "\n",
    "        \n",
    "        \n",
    "    "
   ]
  },
  {
   "cell_type": "code",
   "execution_count": 311,
   "metadata": {},
   "outputs": [
    {
     "name": "stdout",
     "output_type": "stream",
     "text": [
      "loaded 29351 main headings\n",
      "    -> 122830 terms in total\n",
      "\n",
      "[(\"lésions traumatiques de l'abdomen\", 'D000007'),\n",
      " ('nerf moteur oculaire externe', 'D000010'),\n",
      " ('abelson murine leukemia virus', 'D000011'),\n",
      " ('malformations dues aux médicaments', 'D000014'),\n",
      " ('malformations dues aux radiations', 'D000016')]\n"
     ]
    }
   ],
   "source": [
    "\n",
    "## ALL items\n",
    "\n",
    "\n",
    "res=[]\n",
    "\n",
    "print(f'''loaded {len(my_dict['DescriptorRecordSet']['DescriptorRecord'])} main headings''')\n",
    "\n",
    "for x in my_dict['DescriptorRecordSet']['DescriptorRecord']:\n",
    "\n",
    "\n",
    "\n",
    "    procname=x['DescriptorName']['String'].split('[')[0]\n",
    "    res.append((x['DescriptorUI'],'fre',procname))\n",
    "\n",
    "    tt=x['ConceptList']['Concept']\n",
    "    \n",
    "    if isinstance(tt,list):\n",
    "        pass\n",
    "    else:\n",
    "        tt=[tt]\n",
    "        \n",
    "    for ii,y in enumerate(tt):\n",
    "        cc=y['TermList']['Term']\n",
    "    \n",
    "        if isinstance(cc,list):\n",
    "            pass\n",
    "        else:\n",
    "            cc=[cc]\n",
    "        \n",
    "        \n",
    "        for dd in cc:\n",
    "            res.append((x['DescriptorUI'],dd['TermUI'],dd['String']))\n",
    "\n",
    "res2 = [(x[0],x[2]) for x in res if x[1][:3]=='fre']\n",
    "\n",
    "\n",
    "tmplookuplist = pd.DataFrame({\n",
    "    'id':[x[0] for x in res2],\n",
    "    'term':[x[1] for x in res2]\n",
    "})\n",
    "lookuplist=tmplookuplist.drop_duplicates(keep='first').reset_index(drop=True)\n",
    "print(f'    -> {len(lookuplist)} terms in total\\n')\n",
    "\n",
    "\n",
    "# create dictionary\n",
    "from keyword_extraction import DictLU_Create_Dict\n",
    "\n",
    "DCC = DictLU_Create_Dict(lookuplist)\n",
    "dicts_lower = DCC.dicts_lower\n",
    "dicts_upper = DCC.dicts_upper\n",
    "\n",
    "\n",
    "pprint(list(dicts_lower[3].items())[:5])\n",
    "\n",
    "\n",
    "\n",
    "with open('MeSH_dict_french.p', 'wb') as handle:\n",
    "    pickle.dump([dicts_lower,dicts_upper], handle)"
   ]
  },
  {
   "cell_type": "markdown",
   "metadata": {},
   "source": [
    "# 2. Examples\n",
    "\n",
    "for a better visual overview you can also get a simple html with the found words in red.\n",
    "\n",
    "github is not showing the html correctly. no red words. pls check locally\n",
    "\n",
    "\n",
    "## 2.1. English "
   ]
  },
  {
   "cell_type": "code",
   "execution_count": 388,
   "metadata": {},
   "outputs": [
    {
     "name": "stdout",
     "output_type": "stream",
     "text": [
      "('Malaria is infectious diseases caused by Plasmodium parasite, which '\n",
      " 'transmitted by Anopheles mosquitoes. Although the global burden of malaria '\n",
      " 'has been decreasing in recent years, malaria remains one of the most '\n",
      " 'important infectious diseases, from the point of view of its morbidity and '\n",
      " 'mortality. Imported malaria is one of the major concerns at the evaluation '\n",
      " 'of a febrile illness in a traveler returned from the endemic countries. The '\n",
      " 'diagnosis and management of malaria cases requires much experience and '\n",
      " 'knowledge. We review the epidemiology, pathogenesis, clinical features, '\n",
      " 'diagnosis, prevention and treatment of malaria in Japan.')\n",
      "\n",
      "###  FAST  #############\n",
      "\n",
      "['D003141',\n",
      " 'D000852',\n",
      " 'D003933',\n",
      " 'D004813',\n",
      " 'D007564',\n",
      " 'D008288',\n",
      " 'D009017',\n",
      " 'D009026',\n",
      " 'D010961',\n",
      " 'D016454',\n",
      " 'D019359',\n",
      " 'D009033',\n",
      " 'D010271',\n",
      " 'D013812']\n",
      "\n",
      "###  FULL  #############\n",
      "\n",
      "{'D000852': {'count': 1, 'pos': [(83, 92)], 'term': 'anopheles'},\n",
      " 'D003141': {'count': 2,\n",
      "             'pos': [(11, 30), (222, 241)],\n",
      "             'term': 'infectious diseases'},\n",
      " 'D003933': {'count': 2, 'pos': [(438, 447), (581, 590)], 'term': 'diagnosis'},\n",
      " 'D004813': {'count': 1, 'pos': [(534, 546)], 'term': 'epidemiology'},\n",
      " 'D007564': {'count': 1, 'pos': [(631, 636)], 'term': 'japan'},\n",
      " 'D008288': {'count': 6,\n",
      "             'pos': [(0, 7),\n",
      "                     (135, 142),\n",
      "                     (180, 187),\n",
      "                     (307, 314),\n",
      "                     (466, 473),\n",
      "                     (620, 627)],\n",
      "             'term': 'malaria'},\n",
      " 'D009017': {'count': 1, 'pos': [(273, 282)], 'term': 'morbidity'},\n",
      " 'D009026': {'count': 1, 'pos': [(287, 296)], 'term': 'mortality'},\n",
      " 'D009033': {'count': 1, 'pos': [(93, 103)], 'term': 'mosquitoes'},\n",
      " 'D010271': {'count': 1, 'pos': [(52, 60)], 'term': 'parasite'},\n",
      " 'D010961': {'count': 1, 'pos': [(41, 51)], 'term': 'plasmodium'},\n",
      " 'D013812': {'count': 1, 'pos': [(607, 616)], 'term': 'treatment'},\n",
      " 'D016454': {'count': 1, 'pos': [(523, 529)], 'term': 'review'},\n",
      " 'D019359': {'count': 1, 'pos': [(509, 518)], 'term': 'knowledge'}}\n",
      "\n",
      "###  HTML  #############\n"
     ]
    },
    {
     "data": {
      "text/html": [
       "<!DOCTYPE html> <html>  <head>  <!-- head definitions go here -->    </head>    <body><font color=\"red\">{Malaria}</font> is <font color=\"red\">{infectious diseases}</font> caused by <font color=\"red\">{Plasmodium}</font> <font color=\"red\">{parasite}</font>, which transmitted by <font color=\"red\">{Anopheles}</font> <font color=\"red\">{mosquitoes}</font>. Although the global burden of <font color=\"red\">{malaria}</font> has been decreasing in recent years, <font color=\"red\">{malaria}</font> remains one of the most important <font color=\"red\">{infectious diseases}</font>, from the point of view of its <font color=\"red\">{morbidity}</font> and <font color=\"red\">{mortality}</font>. Imported <font color=\"red\">{malaria}</font> is one of the major concerns at the evaluation of a febrile illness in a traveler returned from the endemic countries. The <font color=\"red\">{diagnosis}</font> and management of <font color=\"red\">{malaria}</font> cases requires much experience and <font color=\"red\">{knowledge}</font>. We <font color=\"red\">{review}</font> the <font color=\"red\">{epidemiology}</font>, pathogenesis, clinical features, <font color=\"red\">{diagnosis}</font>, prevention and <font color=\"red\">{treatment}</font> of <font color=\"red\">{malaria}</font> in <font color=\"red\">{Japan}</font>.</body> </html>"
      ],
      "text/plain": [
       "<IPython.core.display.HTML object>"
      ]
     },
     "metadata": {},
     "output_type": "display_data"
    }
   ],
   "source": [
    "text = 'Malaria is infectious diseases caused by Plasmodium parasite, which transmitted by Anopheles mosquitoes. Although the global burden of malaria has been decreasing in recent years, malaria remains one of the most important infectious diseases, from the point of view of its morbidity and mortality. Imported malaria is one of the major concerns at the evaluation of a febrile illness in a traveler returned from the endemic countries. The diagnosis and management of malaria cases requires much experience and knowledge. We review the epidemiology, pathogenesis, clinical features, diagnosis, prevention and treatment of malaria in Japan.'\n",
    "pprint(text)\n",
    "print('\\n###  FAST  #############\\n')\n",
    "\n",
    "from keyword_extraction import DictLU_Extract_Exact\n",
    "\n",
    "[dicts_lower,dicts_upper] = pickle.load( open('MeSH_dict_english.p', \"rb\" ) ) \n",
    "\n",
    "DEE=DictLU_Extract_Exact(dicts_upper,dicts_lower)\n",
    "\n",
    "DEE.fast(text)\n",
    "\n",
    "pprint(DEE.fast_ids)\n",
    "            \n",
    "DEE.full(text)\n",
    "print('\\n###  FULL  #############\\n')\n",
    "\n",
    "\n",
    "pprint(DEE.result)\n",
    "\n",
    "DEE.create_html()   ## this works when using the full method, not when using the fast method\n",
    "htmlstring = DEE.html\n",
    "\n",
    "print('\\n###  HTML  #############')\n",
    "display(HTML(htmlstring))"
   ]
  },
  {
   "cell_type": "markdown",
   "metadata": {},
   "source": [
    "## 2.2. German"
   ]
  },
  {
   "cell_type": "code",
   "execution_count": 401,
   "metadata": {},
   "outputs": [
    {
     "name": "stdout",
     "output_type": "stream",
     "text": [
      "('Die vorliegende Arbeit beschäftigt sich mit dem Thema der Malaria, die nicht '\n",
      " 'nur in Entwicklungsländern eine Rolle spielt, sondern mit der medizinisches '\n",
      " 'Personal auch in Europa zu kämpfen hat. Es wird der Frage nachgegangen, '\n",
      " 'welche geschichtlichen Hintergründe die Malaria hat und wie die Menschen '\n",
      " 'damals dieses Krankheitsbild therapiert und der Krankheit vorgebeugt haben. '\n",
      " 'Außerdem wird behandelt, welche prophylaktischen Möglichkeiten es gegen die '\n",
      " 'Malaria gibt, wie wirksam diese sind und ob es schon einen wirksamen '\n",
      " 'Impfstoff gegen diese Weltkrankheit gibt. Ein Schwerpunkt liegt auf den '\n",
      " 'Tätigkeiten, mit denen Pflegepersonal bei der Pflege Malariaerkrankter '\n",
      " 'konfrontiert ist. Um Antworten auf diese Fragen zu finden, wurden in einer '\n",
      " 'umfangreichen Literaturrecherche Fachbücher, Fachzeitschriften, '\n",
      " 'Forschungsartikel im Internet und fachspezifische englische Studien '\n",
      " 'durchsucht und das Wesentliche herausgefiltert. Zusätzlich wurden drei '\n",
      " 'halbstandardisierte Leitfaden-Interviews mit Menschen, die die Malaria '\n",
      " 'persönlich erlebt haben, durchgeführt. Es wird offensichtlich, wie '\n",
      " 'umfangreich das Thema der Malaria und ihrer Prophylaxe- und '\n",
      " 'Therapiemöglichkeiten ist und wie viel noch zu erforschen wäre.')\n",
      "\n",
      "###  FAST  #############\n",
      "\n",
      "['D008503',\n",
      " 'D014937',\n",
      " 'D005060',\n",
      " 'D020407',\n",
      " 'D004194',\n",
      " 'D008288',\n",
      " 'D006801',\n",
      " 'D012380',\n",
      " 'D005581']\n",
      "\n",
      "###  FULL  #############\n",
      "\n",
      "{'D004194': {'count': 1, 'pos': [(346, 355)], 'term': 'krankheit'},\n",
      " 'D005060': {'count': 1, 'pos': [(170, 176)], 'term': 'europa'},\n",
      " 'D005581': {'count': 1, 'pos': [(637, 643)], 'term': 'pflege'},\n",
      " 'D006801': {'count': 2, 'pos': [(289, 297), (985, 993)], 'term': 'menschen'},\n",
      " 'D008288': {'count': 5,\n",
      "             'pos': [(58, 65),\n",
      "                     (265, 272),\n",
      "                     (450, 457),\n",
      "                     (1003, 1010),\n",
      "                     (1104, 1111)],\n",
      "             'term': 'malaria'},\n",
      " 'D008503': {'count': 1, 'pos': [(139, 161)], 'term': 'medizinisches personal'},\n",
      " 'D012380': {'count': 1, 'pos': [(109, 114)], 'term': 'rolle'},\n",
      " 'D014937': {'count': 1, 'pos': [(16, 22)], 'term': 'arbeit'},\n",
      " 'D020407': {'count': 1, 'pos': [(822, 830)], 'term': 'internet'}}\n",
      "\n",
      "###  HTML  #############\n"
     ]
    },
    {
     "data": {
      "text/html": [
       "<!DOCTYPE html> <html>  <head>  <!-- head definitions go here -->    </head>    <body>Die vorliegende <font color=\"red\">{Arbeit}</font> beschäftigt sich mit dem Thema der <font color=\"red\">{Malaria}</font>, die nicht nur in Entwicklungsländern eine <font color=\"red\">{Rolle}</font> spielt, sondern mit der <font color=\"red\">{medizinisches Personal}</font> auch in <font color=\"red\">{Europa}</font> zu kämpfen hat. Es wird der Frage nachgegangen, welche geschichtlichen Hintergründe die <font color=\"red\">{Malaria}</font> hat und wie die <font color=\"red\">{Menschen}</font> damals dieses Krankheitsbild therapiert und der <font color=\"red\">{Krankheit}</font> vorgebeugt haben. Außerdem wird behandelt, welche prophylaktischen Möglichkeiten es gegen die <font color=\"red\">{Malaria}</font> gibt, wie wirksam diese sind und ob es schon einen wirksamen Impfstoff gegen diese Weltkrankheit gibt. Ein Schwerpunkt liegt auf den Tätigkeiten, mit denen Pflegepersonal bei der <font color=\"red\">{Pflege}</font> Malariaerkrankter konfrontiert ist. Um Antworten auf diese Fragen zu finden, wurden in einer umfangreichen Literaturrecherche Fachbücher, Fachzeitschriften, Forschungsartikel im <font color=\"red\">{Internet}</font> und fachspezifische englische Studien durchsucht und das Wesentliche herausgefiltert. Zusätzlich wurden drei halbstandardisierte Leitfaden-Interviews mit <font color=\"red\">{Menschen}</font>, die die <font color=\"red\">{Malaria}</font> persönlich erlebt haben, durchgeführt. Es wird offensichtlich, wie umfangreich das Thema der <font color=\"red\">{Malaria}</font> und ihrer Prophylaxe- und Therapiemöglichkeiten ist und wie viel noch zu erforschen wäre.</body> </html>"
      ],
      "text/plain": [
       "<IPython.core.display.HTML object>"
      ]
     },
     "metadata": {},
     "output_type": "display_data"
    }
   ],
   "source": [
    "text='''Die vorliegende Arbeit beschäftigt sich mit dem Thema der Malaria, die nicht nur in Entwicklungsländern eine Rolle spielt, sondern mit der medizinisches Personal auch in Europa zu kämpfen hat. Es wird der Frage nachgegangen, welche geschichtlichen Hintergründe die Malaria hat und wie die Menschen damals dieses Krankheitsbild therapiert und der Krankheit vorgebeugt haben. Außerdem wird behandelt, welche prophylaktischen Möglichkeiten es gegen die Malaria gibt, wie wirksam diese sind und ob es schon einen wirksamen Impfstoff gegen diese Weltkrankheit gibt. Ein Schwerpunkt liegt auf den Tätigkeiten, mit denen Pflegepersonal bei der Pflege Malariaerkrankter konfrontiert ist. Um Antworten auf diese Fragen zu finden, wurden in einer umfangreichen Literaturrecherche Fachbücher, Fachzeitschriften, Forschungsartikel im Internet und fachspezifische englische Studien durchsucht und das Wesentliche herausgefiltert. Zusätzlich wurden drei halbstandardisierte Leitfaden-Interviews mit Menschen, die die Malaria persönlich erlebt haben, durchgeführt. Es wird offensichtlich, wie umfangreich das Thema der Malaria und ihrer Prophylaxe- und Therapiemöglichkeiten ist und wie viel noch zu erforschen wäre.'''\n",
    "pprint(text)\n",
    "print('\\n###  FAST  #############\\n')\n",
    "\n",
    "\n",
    "from keyword_extraction import DictLU_Extract_Exact\n",
    "\n",
    "[dicts_lower,dicts_upper] = pickle.load( open('MeSH_dict_german.p', \"rb\" ) ) \n",
    "\n",
    "DEE=DictLU_Extract_Exact(dicts_upper,dicts_lower)\n",
    "\n",
    "DEE.fast(text)\n",
    "\n",
    "pprint(DEE.fast_ids)\n",
    "            \n",
    "DEE.full(text)\n",
    "print('\\n###  FULL  #############\\n')\n",
    "\n",
    "\n",
    "pprint(DEE.result)\n",
    "\n",
    "DEE.create_html()   ## this works when using the full method, not when using the fast method\n",
    "htmlstring = DEE.html\n",
    "\n",
    "print('\\n###  HTML  #############')\n",
    "display(HTML(htmlstring))"
   ]
  },
  {
   "cell_type": "code",
   "execution_count": 384,
   "metadata": {},
   "outputs": [
    {
     "data": {
      "text/plain": [
       "[('impfablehnung', 'D000072758'),\n",
       " ('impfplan', 'D007115'),\n",
       " ('impfprogramme', 'D017589'),\n",
       " ('impfschutz-deckungsgrad', 'D000073887'),\n",
       " ('impfstoffwirksamkeit', 'D064166'),\n",
       " ('impfschutzabdeckung', 'D000073887'),\n",
       " ('impfschutzdeckungsgrad', 'D000073887'),\n",
       " ('impfstoffe', 'D014612'),\n",
       " ('impfstoffstabilitaet', 'D064166'),\n",
       " ('impfstoffstabilität', 'D064166'),\n",
       " ('impfung', 'D014611'),\n",
       " ('impfverweigerung', 'D000072758'),\n",
       " ('impfwissenschaften', 'D000078782')]"
      ]
     },
     "execution_count": 384,
     "metadata": {},
     "output_type": "execute_result"
    }
   ],
   "source": [
    "[x for x in dicts_lower[0].items() if x[0][0:4] == 'impf']"
   ]
  },
  {
   "cell_type": "code",
   "execution_count": null,
   "metadata": {},
   "outputs": [],
   "source": []
  },
  {
   "cell_type": "markdown",
   "metadata": {},
   "source": [
    "## 2.3. French"
   ]
  },
  {
   "cell_type": "code",
   "execution_count": 386,
   "metadata": {},
   "outputs": [
    {
     "name": "stdout",
     "output_type": "stream",
     "text": [
      "('Un essai clinique randomisé, placebo contrôlé a testé chez plus de 27 000 '\n",
      " 'patients avec maladie cardiovasculaire sous statines l’ajout d’un deuxième '\n",
      " 'traitement hypolipémiant par inhibition de la protéine PCSK9, l’évolocumab. '\n",
      " 'Dans une analyse de sous-groupe de cette étude appelée FOURIER, les auteurs '\n",
      " 'ont identifié 2034 patients qui avaient un LDL-cholestérol en dessous de 1,8 '\n",
      " 'mmol/l (médiane 1,7 mmol/l) au début de l’étude. Dans ce groupe, 1030 '\n",
      " 'patients ont reçu de l’évolocumab et ont atteint un taux médian de '\n",
      " 'LDL-cholestérol à 0,5 mmol/l à un an. Le risque de récidive d’événement '\n",
      " 'cardiovasculaire mortel ou non après deux ans était à 4,7 % dans le groupe '\n",
      " 'évolocumab versus 6,8 % dans le groupe placebo. Par comparaison, chez les '\n",
      " 'plus de 25 000 patients avec LDL-cholestérol au-dessus de 1,8 mmol/l '\n",
      " '(médiane 2,4 mmol/l) au début de l’étude, le risque de récidive '\n",
      " 'cardiovasculaire était à 6,0 % dans le groupe évolocumab versus 7,4 % dans '\n",
      " 'le groupe placebo. Il n’y avait pas de modification de l’effet du traitement '\n",
      " 'hypolipémiant testé en fonction du taux de LDL-cholestérol au départ '\n",
      " '(p-value pour interaction 0,6) et il n’y avait pas de signal d’effets '\n",
      " 'indésirables majeurs.')\n",
      "\n",
      "###  FAST  #############\n",
      "\n",
      "['D016430',\n",
      " 'D003463',\n",
      " 'D004194',\n",
      " 'D007266',\n",
      " 'D010361',\n",
      " 'D010919',\n",
      " 'D012008',\n",
      " 'D012306',\n",
      " 'D019161']\n",
      "\n",
      "###  FULL  #############\n",
      "\n",
      "{'D003463': {'count': 1, 'pos': [(1144, 1150)], 'term': 'signal'},\n",
      " 'D004194': {'count': 1, 'pos': [(88, 95)], 'term': 'maladie'},\n",
      " 'D007266': {'count': 1, 'pos': [(178, 188)], 'term': 'inhibition'},\n",
      " 'D010361': {'count': 4,\n",
      "             'pos': [(74, 82), (320, 328), (448, 456), (751, 759)],\n",
      "             'term': 'patients'},\n",
      " 'D010919': {'count': 3,\n",
      "             'pos': [(29, 36), (701, 708), (954, 961)],\n",
      "             'term': 'placebo'},\n",
      " 'D012008': {'count': 2, 'pos': [(566, 574), (860, 868)], 'term': 'récidive'},\n",
      " 'D012306': {'count': 2, 'pos': [(556, 562), (850, 856)], 'term': 'risque'},\n",
      " 'D016430': {'count': 1, 'pos': [(3, 17)], 'term': 'essai clinique'},\n",
      " 'D019161': {'count': 1, 'pos': [(118, 126)], 'term': 'statines'}}\n",
      "\n",
      "###  HTML  #############\n"
     ]
    },
    {
     "data": {
      "text/html": [
       "<!DOCTYPE html> <html>  <head>  <!-- head definitions go here -->    </head>    <body>Un <font color=\"red\">{essai clinique}</font> randomisé, <font color=\"red\">{placebo}</font> contrôlé a testé chez plus de 27 000 <font color=\"red\">{patients}</font> avec <font color=\"red\">{maladie}</font> cardiovasculaire sous <font color=\"red\">{statines}</font> l’ajout d’un deuxième traitement hypolipémiant par <font color=\"red\">{inhibition}</font> de la protéine PCSK9, l’évolocumab. Dans une analyse de sous-groupe de cette étude appelée FOURIER, les auteurs ont identifié 2034 <font color=\"red\">{patients}</font> qui avaient un LDL-cholestérol en dessous de 1,8 mmol/l (médiane 1,7 mmol/l) au début de l’étude. Dans ce groupe, 1030 <font color=\"red\">{patients}</font> ont reçu de l’évolocumab et ont atteint un taux médian de LDL-cholestérol à 0,5 mmol/l à un an. Le <font color=\"red\">{risque}</font> de <font color=\"red\">{récidive}</font> d’événement cardiovasculaire mortel ou non après deux ans était à 4,7 % dans le groupe évolocumab versus 6,8 % dans le groupe <font color=\"red\">{placebo}</font>. Par comparaison, chez les plus de 25 000 <font color=\"red\">{patients}</font> avec LDL-cholestérol au-dessus de 1,8 mmol/l (médiane 2,4 mmol/l) au début de l’étude, le <font color=\"red\">{risque}</font> de <font color=\"red\">{récidive}</font> cardiovasculaire était à 6,0 % dans le groupe évolocumab versus 7,4 % dans le groupe <font color=\"red\">{placebo}</font>. Il n’y avait pas de modification de l’effet du traitement hypolipémiant testé en fonction du taux de LDL-cholestérol au départ (p-value pour interaction 0,6) et il n’y avait pas de <font color=\"red\">{signal}</font> d’effets indésirables majeurs.</body> </html>"
      ],
      "text/plain": [
       "<IPython.core.display.HTML object>"
      ]
     },
     "metadata": {},
     "output_type": "display_data"
    }
   ],
   "source": [
    "text='''Un essai clinique randomisé, placebo contrôlé a testé chez plus de 27 000 patients avec maladie cardiovasculaire sous statines l’ajout d’un deuxième traitement hypolipémiant par inhibition de la protéine PCSK9, l’évolocumab. Dans une analyse de sous-groupe de cette étude appelée FOURIER, les auteurs ont identifié 2034 patients qui avaient un LDL-cholestérol en dessous de 1,8 mmol/l (médiane 1,7 mmol/l) au début de l’étude. Dans ce groupe, 1030 patients ont reçu de l’évolocumab et ont atteint un taux médian de LDL-cholestérol à 0,5 mmol/l à un an. Le risque de récidive d’événement cardiovasculaire mortel ou non après deux ans était à 4,7 % dans le groupe évolocumab versus 6,8 % dans le groupe placebo. Par comparaison, chez les plus de 25 000 patients avec LDL-cholestérol au-dessus de 1,8 mmol/l (médiane 2,4 mmol/l) au début de l’étude, le risque de récidive cardiovasculaire était à 6,0 % dans le groupe évolocumab versus 7,4 % dans le groupe placebo. Il n’y avait pas de modification de l’effet du traitement hypolipémiant testé en fonction du taux de LDL-cholestérol au départ (p-value pour interaction 0,6) et il n’y avait pas de signal d’effets indésirables majeurs.'''\n",
    "pprint(text)\n",
    "print('\\n###  FAST  #############\\n')\n",
    "\n",
    "\n",
    "from keyword_extraction import DictLU_Extract_Exact\n",
    "\n",
    "[dicts_lower,dicts_upper] = pickle.load( open('MeSH_dict_french.p', \"rb\" ) ) \n",
    "\n",
    "DEE=DictLU_Extract_Exact(dicts_upper,dicts_lower)\n",
    "\n",
    "DEE.fast(text)\n",
    "\n",
    "pprint(DEE.fast_ids)\n",
    "            \n",
    "DEE.full(text)\n",
    "print('\\n###  FULL  #############\\n')\n",
    "pprint(DEE.result)\n",
    "\n",
    "DEE.create_html()   ## this works when using the full method, not when using the fast method\n",
    "htmlstring = DEE.html\n",
    "\n",
    "print('\\n###  HTML  #############')\n",
    "display(HTML(htmlstring))"
   ]
  },
  {
   "cell_type": "code",
   "execution_count": 385,
   "metadata": {},
   "outputs": [
    {
     "data": {
      "text/plain": [
       "[]"
      ]
     },
     "execution_count": 385,
     "metadata": {},
     "output_type": "execute_result"
    }
   ],
   "source": [
    "[x for x in dicts_lower[0].items() if x[0] == 'cholestérol']"
   ]
  },
  {
   "cell_type": "code",
   "execution_count": null,
   "metadata": {},
   "outputs": [],
   "source": [
    "\n"
   ]
  },
  {
   "cell_type": "markdown",
   "metadata": {},
   "source": []
  },
  {
   "cell_type": "code",
   "execution_count": null,
   "metadata": {},
   "outputs": [],
   "source": [
    "\n"
   ]
  },
  {
   "cell_type": "code",
   "execution_count": null,
   "metadata": {},
   "outputs": [],
   "source": [
    "\n"
   ]
  },
  {
   "cell_type": "markdown",
   "metadata": {},
   "source": [
    "## Speedtest 1 CPU"
   ]
  },
  {
   "cell_type": "code",
   "execution_count": 9,
   "metadata": {},
   "outputs": [],
   "source": [
    " from datetime import datetime"
   ]
  },
  {
   "cell_type": "code",
   "execution_count": 8,
   "metadata": {},
   "outputs": [
    {
     "name": "stdout",
     "output_type": "stream",
     "text": [
      "Malaria is infectious diseases caused by Plasmodium parasite, which transmitted by Anopheles mosquitoes. Although the global burden of malaria has been decreasing in recent years, malaria remains one of the most important infectious diseases, from the point of view of its morbidity and mortality. Imported malaria is one of the major concerns at the evaluation of a febrile illness in a traveler returned from the endemic countries. The diagnosis and management of malaria cases requires much experience and knowledge. We review the epidemiology, pathogenesis, clinical features, diagnosis, prevention and treatment of malaria in Japan.\n"
     ]
    }
   ],
   "source": [
    "from keyword_extraction import DictLU_Extract_Exact\n",
    "import pickle \n",
    "[dicts_lower,dicts_upper] = pickle.load( open('MeSH_dict.p', \"rb\" ) ) \n",
    "\n",
    "DEE=DictLU_Extract_Exact(dicts_upper,dicts_lower)\n",
    "\n",
    "text = 'Malaria is infectious diseases caused by Plasmodium parasite, which transmitted by Anopheles mosquitoes. Although the global burden of malaria has been decreasing in recent years, malaria remains one of the most important infectious diseases, from the point of view of its morbidity and mortality. Imported malaria is one of the major concerns at the evaluation of a febrile illness in a traveler returned from the endemic countries. The diagnosis and management of malaria cases requires much experience and knowledge. We review the epidemiology, pathogenesis, clinical features, diagnosis, prevention and treatment of malaria in Japan.'\n",
    "from pprint import pprint\n",
    "#pprint(text)\n",
    "print(text)"
   ]
  },
  {
   "cell_type": "code",
   "execution_count": 17,
   "metadata": {},
   "outputs": [
    {
     "name": "stdout",
     "output_type": "stream",
     "text": [
      "0\n",
      "100\n",
      "200\n",
      "300\n",
      "400\n",
      "500\n",
      "600\n",
      "700\n",
      "800\n",
      "900\n",
      "fast extraction 0:02:34.371130\n",
      "0\n",
      "100\n",
      "200\n",
      "300\n",
      "400\n",
      "500\n",
      "600\n",
      "700\n",
      "800\n",
      "900\n",
      "full extraction 0:02:39.806298\n"
     ]
    }
   ],
   "source": [
    "a=datetime.now()\n",
    "for i in range(1000):\n",
    "    if i%100==0:\n",
    "        print(i)\n",
    "    DEE.fast(text)\n",
    "b=datetime.now()\n",
    "print('fast extraction',b-a)\n",
    "\n",
    "a=datetime.now()\n",
    "for i in range(1000):\n",
    "    if i%100==0:\n",
    "        print(i)\n",
    "    DEE.full(text)\n",
    "b=datetime.now()\n",
    "print('full extraction',b-a)"
   ]
  },
  {
   "cell_type": "code",
   "execution_count": null,
   "metadata": {},
   "outputs": [],
   "source": []
  },
  {
   "cell_type": "code",
   "execution_count": null,
   "metadata": {},
   "outputs": [],
   "source": []
  },
  {
   "cell_type": "markdown",
   "metadata": {},
   "source": [
    "## Speedtest Multi CPU"
   ]
  },
  {
   "cell_type": "code",
   "execution_count": null,
   "metadata": {},
   "outputs": [],
   "source": [
    "import multiprocessing as mp"
   ]
  },
  {
   "cell_type": "code",
   "execution_count": null,
   "metadata": {},
   "outputs": [],
   "source": [
    "## was ist besser?\n",
    "    - das DEE objekt mitzugeben \n",
    "    - das DEE objekt jedes mal neu zu erzeugen\n",
    "    \n",
    "    - große oder kleine chunksize?\n",
    "    "
   ]
  },
  {
   "cell_type": "code",
   "execution_count": null,
   "metadata": {},
   "outputs": [],
   "source": []
  }
 ],
 "metadata": {
  "kernelspec": {
   "display_name": "Python [conda env:patente] *",
   "language": "python",
   "name": "conda-env-patente-py"
  },
  "language_info": {
   "codemirror_mode": {
    "name": "ipython",
    "version": 3
   },
   "file_extension": ".py",
   "mimetype": "text/x-python",
   "name": "python",
   "nbconvert_exporter": "python",
   "pygments_lexer": "ipython3",
   "version": "3.7.4"
  }
 },
 "nbformat": 4,
 "nbformat_minor": 2
}
