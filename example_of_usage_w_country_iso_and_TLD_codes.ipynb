{
 "cells": [
  {
   "cell_type": "code",
   "execution_count": 75,
   "metadata": {},
   "outputs": [],
   "source": [
    "import pandas as pd\n",
    "import pickle"
   ]
  },
  {
   "cell_type": "code",
   "execution_count": 5,
   "metadata": {},
   "outputs": [],
   "source": [
    "df0 = pd.read_csv('https://raw.githubusercontent.com/klauslippert/country-codes/master/data/country-codes.csv')"
   ]
  },
  {
   "cell_type": "code",
   "execution_count": 41,
   "metadata": {},
   "outputs": [],
   "source": [
    "df1 = df0[['ISO3166-1-Alpha-2',\n",
    "          'UNTERM Spanish Formal','UNTERM Spanish Short','official_name_es',\n",
    "          'UNTERM English Formal','UNTERM English Short','official_name_en',\n",
    "          'UNTERM French Formal','UNTERM French Short','official_name_fr',\n",
    "          'CLDR display name',\n",
    "]]\n",
    "\n",
    "myextra = pd.DataFrame({'ISO3166-1-Alpha-2':['DE','UK','US','IT'],\n",
    "              'name':['Deutschland','United Kingdom','USA','Italia']})\n",
    "\n",
    "df2=pd.concat([\n",
    "    df1[['ISO3166-1-Alpha-2','UNTERM Spanish Formal']].rename(columns={'UNTERM Spanish Formal':'name'}),\n",
    "    df1[['ISO3166-1-Alpha-2','UNTERM Spanish Short']].rename(columns={'UNTERM Spanish Short':'name'}),\n",
    "    df1[['ISO3166-1-Alpha-2','official_name_es']].rename(columns={'official_name_es':'name'}),\n",
    "    df1[['ISO3166-1-Alpha-2','UNTERM English Formal']].rename(columns={'UNTERM English Formal':'name'}),\n",
    "    df1[['ISO3166-1-Alpha-2','UNTERM English Short']].rename(columns={'UNTERM English Short':'name'}),\n",
    "    df1[['ISO3166-1-Alpha-2','official_name_en']].rename(columns={'official_name_en':'name'}),\n",
    "    df1[['ISO3166-1-Alpha-2','UNTERM French Formal']].rename(columns={'UNTERM French Formal':'name'}),\n",
    "    df1[['ISO3166-1-Alpha-2','UNTERM French Short']].rename(columns={'UNTERM French Short':'name'}),\n",
    "    df1[['ISO3166-1-Alpha-2','official_name_fr']].rename(columns={'official_name_fr':'name'}),\n",
    "    df1[['ISO3166-1-Alpha-2','CLDR display name']].rename(columns={'CLDR display name':'name'}),\n",
    "    myextra\n",
    "],axis=0)"
   ]
  },
  {
   "cell_type": "code",
   "execution_count": 42,
   "metadata": {},
   "outputs": [],
   "source": [
    "df3=df2.drop_duplicates(keep='first')\n"
   ]
  },
  {
   "cell_type": "code",
   "execution_count": 61,
   "metadata": {},
   "outputs": [
    {
     "data": {
      "text/html": [
       "<div>\n",
       "<style scoped>\n",
       "    .dataframe tbody tr th:only-of-type {\n",
       "        vertical-align: middle;\n",
       "    }\n",
       "\n",
       "    .dataframe tbody tr th {\n",
       "        vertical-align: top;\n",
       "    }\n",
       "\n",
       "    .dataframe thead th {\n",
       "        text-align: right;\n",
       "    }\n",
       "</style>\n",
       "<table border=\"1\" class=\"dataframe\">\n",
       "  <thead>\n",
       "    <tr style=\"text-align: right;\">\n",
       "      <th></th>\n",
       "      <th>ISO3166-1-Alpha-2</th>\n",
       "      <th>name</th>\n",
       "    </tr>\n",
       "  </thead>\n",
       "  <tbody>\n",
       "    <tr>\n",
       "      <th>0</th>\n",
       "      <td>TW</td>\n",
       "      <td>NaN</td>\n",
       "    </tr>\n",
       "    <tr>\n",
       "      <th>1</th>\n",
       "      <td>AF</td>\n",
       "      <td>República Islámica del Afganistán (la)</td>\n",
       "    </tr>\n",
       "    <tr>\n",
       "      <th>2</th>\n",
       "      <td>AL</td>\n",
       "      <td>la República de Albania</td>\n",
       "    </tr>\n",
       "    <tr>\n",
       "      <th>3</th>\n",
       "      <td>DZ</td>\n",
       "      <td>la República Argelina Democrática y Popular</td>\n",
       "    </tr>\n",
       "    <tr>\n",
       "      <th>4</th>\n",
       "      <td>AS</td>\n",
       "      <td>NaN</td>\n",
       "    </tr>\n",
       "  </tbody>\n",
       "</table>\n",
       "</div>"
      ],
      "text/plain": [
       "  ISO3166-1-Alpha-2                                         name\n",
       "0                TW                                          NaN\n",
       "1                AF       República Islámica del Afganistán (la)\n",
       "2                AL                      la República de Albania\n",
       "3                DZ  la República Argelina Democrática y Popular\n",
       "4                AS                                          NaN"
      ]
     },
     "execution_count": 61,
     "metadata": {},
     "output_type": "execute_result"
    }
   ],
   "source": [
    "len(df2),len(df3)\n",
    "df3.head()"
   ]
  },
  {
   "cell_type": "code",
   "execution_count": 62,
   "metadata": {},
   "outputs": [
    {
     "data": {
      "text/plain": [
       "1411"
      ]
     },
     "execution_count": 62,
     "metadata": {},
     "output_type": "execute_result"
    }
   ],
   "source": [
    "df4 = df3[[False if str(x)=='nan' else True for x in df3['name']]].reset_index(drop=True)\n",
    "len(df4)"
   ]
  },
  {
   "cell_type": "code",
   "execution_count": 69,
   "metadata": {},
   "outputs": [
    {
     "data": {
      "text/html": [
       "<div>\n",
       "<style scoped>\n",
       "    .dataframe tbody tr th:only-of-type {\n",
       "        vertical-align: middle;\n",
       "    }\n",
       "\n",
       "    .dataframe tbody tr th {\n",
       "        vertical-align: top;\n",
       "    }\n",
       "\n",
       "    .dataframe thead th {\n",
       "        text-align: right;\n",
       "    }\n",
       "</style>\n",
       "<table border=\"1\" class=\"dataframe\">\n",
       "  <thead>\n",
       "    <tr style=\"text-align: right;\">\n",
       "      <th></th>\n",
       "      <th>id</th>\n",
       "      <th>term</th>\n",
       "    </tr>\n",
       "  </thead>\n",
       "  <tbody>\n",
       "    <tr>\n",
       "      <th>0</th>\n",
       "      <td>AF</td>\n",
       "      <td>República Islámica del Afganistán (la)</td>\n",
       "    </tr>\n",
       "    <tr>\n",
       "      <th>1</th>\n",
       "      <td>AL</td>\n",
       "      <td>la República de Albania</td>\n",
       "    </tr>\n",
       "    <tr>\n",
       "      <th>2</th>\n",
       "      <td>DZ</td>\n",
       "      <td>la República Argelina Democrática y Popular</td>\n",
       "    </tr>\n",
       "    <tr>\n",
       "      <th>3</th>\n",
       "      <td>AD</td>\n",
       "      <td>el Principado de Andorra</td>\n",
       "    </tr>\n",
       "    <tr>\n",
       "      <th>4</th>\n",
       "      <td>AO</td>\n",
       "      <td>la República de Angola</td>\n",
       "    </tr>\n",
       "    <tr>\n",
       "      <th>...</th>\n",
       "      <td>...</td>\n",
       "      <td>...</td>\n",
       "    </tr>\n",
       "    <tr>\n",
       "      <th>1406</th>\n",
       "      <td>VN</td>\n",
       "      <td>Vietnam</td>\n",
       "    </tr>\n",
       "    <tr>\n",
       "      <th>1407</th>\n",
       "      <td>WF</td>\n",
       "      <td>Wallis &amp; Futuna</td>\n",
       "    </tr>\n",
       "    <tr>\n",
       "      <th>1408</th>\n",
       "      <td>DE</td>\n",
       "      <td>Deutschland</td>\n",
       "    </tr>\n",
       "    <tr>\n",
       "      <th>1409</th>\n",
       "      <td>UK</td>\n",
       "      <td>United Kingdom</td>\n",
       "    </tr>\n",
       "    <tr>\n",
       "      <th>1410</th>\n",
       "      <td>US</td>\n",
       "      <td>USA</td>\n",
       "    </tr>\n",
       "  </tbody>\n",
       "</table>\n",
       "<p>1411 rows × 2 columns</p>\n",
       "</div>"
      ],
      "text/plain": [
       "      id                                         term\n",
       "0     AF       República Islámica del Afganistán (la)\n",
       "1     AL                      la República de Albania\n",
       "2     DZ  la República Argelina Democrática y Popular\n",
       "3     AD                     el Principado de Andorra\n",
       "4     AO                       la República de Angola\n",
       "...   ..                                          ...\n",
       "1406  VN                                      Vietnam\n",
       "1407  WF                              Wallis & Futuna\n",
       "1408  DE                                  Deutschland\n",
       "1409  UK                               United Kingdom\n",
       "1410  US                                          USA\n",
       "\n",
       "[1411 rows x 2 columns]"
      ]
     },
     "execution_count": 69,
     "metadata": {},
     "output_type": "execute_result"
    }
   ],
   "source": [
    "lookuplist = df4.rename(columns={'ISO3166-1-Alpha-2':'id',\n",
    "            'name':'term'})\n",
    "\n",
    "lookuplist"
   ]
  },
  {
   "cell_type": "code",
   "execution_count": 78,
   "metadata": {},
   "outputs": [],
   "source": [
    "from keyword_extraction import DictLU_Create_Dict\n",
    "from keyword_extraction import DictLU_Extract_Exact\n",
    "DCC = DictLU_Create_Dict(lookuplist)\n",
    "dicts_lower = DCC.dicts_lower\n",
    "dicts_upper = DCC.dicts_upper\n"
   ]
  },
  {
   "cell_type": "code",
   "execution_count": 76,
   "metadata": {},
   "outputs": [],
   "source": [
    "with open('country_name_iso_dict.p', 'wb') as handle:\n",
    "    pickle.dump([dicts_lower,dicts_upper], handle)"
   ]
  },
  {
   "cell_type": "code",
   "execution_count": 79,
   "metadata": {
    "scrolled": false
   },
   "outputs": [],
   "source": [
    "DEE=DictLU_Extract_Exact(dicts_upper,dicts_lower)\n",
    "\n"
   ]
  },
  {
   "cell_type": "code",
   "execution_count": 80,
   "metadata": {},
   "outputs": [],
   "source": [
    "text='Department of Anesthesia, Dalhousie University, IWK Health Centre, Halifax, Nova Scotia, Canada. allen.finley@dal.ca.'"
   ]
  },
  {
   "cell_type": "code",
   "execution_count": 83,
   "metadata": {},
   "outputs": [
    {
     "name": "stdout",
     "output_type": "stream",
     "text": [
      "CA\n"
     ]
    }
   ],
   "source": [
    "DEE.fast(text)\n",
    "\n",
    "print(DEE.fast_ids[0])"
   ]
  }
 ],
 "metadata": {
  "kernelspec": {
   "display_name": "Python [conda env:patente] *",
   "language": "python",
   "name": "conda-env-patente-py"
  },
  "language_info": {
   "codemirror_mode": {
    "name": "ipython",
    "version": 3
   },
   "file_extension": ".py",
   "mimetype": "text/x-python",
   "name": "python",
   "nbconvert_exporter": "python",
   "pygments_lexer": "ipython3",
   "version": "3.7.4"
  }
 },
 "nbformat": 4,
 "nbformat_minor": 2
}
