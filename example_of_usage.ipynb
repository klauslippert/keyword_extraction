{
 "cells": [
  {
   "cell_type": "markdown",
   "metadata": {},
   "source": [
    "# keyword_extraction\n",
    "\n",
    "extracting keywords (e.g. MeSH terms) from a text using a simple dictionary lookup approach.\n",
    "\n",
    "\n"
   ]
  },
  {
   "cell_type": "markdown",
   "metadata": {},
   "source": [
    "### from raw data to lookup list\n",
    "get the MeSH terms as 'Datenbankfassung' from [here](https://www.dimdi.de/dynamic/de/klassifikationen/weitere-klassifikationen-und-standards/mesh/) and extract. This source is the publisher of the german MeSH 2019. Only the english terms are used here.\n",
    "    "
   ]
  },
  {
   "cell_type": "code",
   "execution_count": 1,
   "metadata": {},
   "outputs": [
    {
     "data": {
      "text/html": [
       "<div>\n",
       "<style scoped>\n",
       "    .dataframe tbody tr th:only-of-type {\n",
       "        vertical-align: middle;\n",
       "    }\n",
       "\n",
       "    .dataframe tbody tr th {\n",
       "        vertical-align: top;\n",
       "    }\n",
       "\n",
       "    .dataframe thead th {\n",
       "        text-align: right;\n",
       "    }\n",
       "</style>\n",
       "<table border=\"1\" class=\"dataframe\">\n",
       "  <thead>\n",
       "    <tr style=\"text-align: right;\">\n",
       "      <th></th>\n",
       "      <th>id</th>\n",
       "      <th>term</th>\n",
       "    </tr>\n",
       "  </thead>\n",
       "  <tbody>\n",
       "    <tr>\n",
       "      <th>0</th>\n",
       "      <td>D042842</td>\n",
       "      <td>11-beta-Hydroxysteroid Dehydrogenases</td>\n",
       "    </tr>\n",
       "    <tr>\n",
       "      <th>1</th>\n",
       "      <td>D043205</td>\n",
       "      <td>11-beta-Hydroxysteroid Dehydrogenase Type 1</td>\n",
       "    </tr>\n",
       "    <tr>\n",
       "      <th>2</th>\n",
       "      <td>D043209</td>\n",
       "      <td>11-beta-Hydroxysteroid Dehydrogenase Type 2</td>\n",
       "    </tr>\n",
       "    <tr>\n",
       "      <th>3</th>\n",
       "      <td>D015062</td>\n",
       "      <td>11-Hydroxycorticosteroids</td>\n",
       "    </tr>\n",
       "    <tr>\n",
       "      <th>4</th>\n",
       "      <td>D014013</td>\n",
       "      <td>1,2-Dihydroxybenzene-3,5-Disulfonic Acid Disod...</td>\n",
       "    </tr>\n",
       "  </tbody>\n",
       "</table>\n",
       "</div>"
      ],
      "text/plain": [
       "        id                                               term\n",
       "0  D042842              11-beta-Hydroxysteroid Dehydrogenases\n",
       "1  D043205        11-beta-Hydroxysteroid Dehydrogenase Type 1\n",
       "2  D043209        11-beta-Hydroxysteroid Dehydrogenase Type 2\n",
       "3  D015062                          11-Hydroxycorticosteroids\n",
       "4  D014013  1,2-Dihydroxybenzene-3,5-Disulfonic Acid Disod..."
      ]
     },
     "execution_count": 1,
     "metadata": {},
     "output_type": "execute_result"
    }
   ],
   "source": [
    "import pandas as pd\n",
    "MH  = pd.read_csv('MH.TXT',\n",
    "                  sep=';',\n",
    "                  quotechar='|',\n",
    "                  encoding='latin1',\n",
    "                  header=None,\n",
    "                  names=['id','term_german','term','subheadings']\n",
    "                 ).drop(columns=['term_german','subheadings'])\n",
    "\n",
    "ETE = pd.read_csv('ETE.TXT',\n",
    "                  sep=';',\n",
    "                  quotechar='|',\n",
    "                  encoding='latin1',\n",
    "                  header=None,\n",
    "                  names=['term','id','term_german']\n",
    "                 ).drop(columns=['term_german'])[['id','term']]\n",
    "\n",
    "lookuplist = pd.concat([MH,ETE]).reset_index(drop=True)\n",
    "lookuplist.head()"
   ]
  },
  {
   "cell_type": "markdown",
   "metadata": {},
   "source": [
    "you can use any DataFrame structured like this one for extracting keywords. \n",
    "\n",
    "column names are mandatory. \n",
    "\n",
    "be aware that the \"term\" column must be unique!"
   ]
  },
  {
   "cell_type": "markdown",
   "metadata": {},
   "source": [
    "### create dictionary"
   ]
  },
  {
   "cell_type": "code",
   "execution_count": 2,
   "metadata": {},
   "outputs": [
    {
     "data": {
      "text/plain": [
       "[('3-pyridinecarboxylic acid, 1,4-dihydro-2,6-dimethyl-5-nitro-4-(2-(trifluoromethyl)phenyl)-, methyl ester',\n",
       "  'D001498'),\n",
       " ('disorder of sex development, 46,xy', 'D058490'),\n",
       " ('adapalene, benzoyl peroxide drug combination', 'D000068801'),\n",
       " ('adaptive clinical trials as topic', 'D000075522'),\n",
       " ('adaptor protein complex alpha subunits', 'D033965')]"
      ]
     },
     "execution_count": 2,
     "metadata": {},
     "output_type": "execute_result"
    }
   ],
   "source": [
    "from keyword_extraction import DictLU_Create_Dict\n",
    "\n",
    "DCC = DictLU_Create_Dict(lookuplist)\n",
    "dicts_lower = DCC.dicts_lower\n",
    "dicts_upper = DCC.dicts_upper\n",
    "\n",
    "list(dicts_lower[4].items())[:5]"
   ]
  },
  {
   "cell_type": "markdown",
   "metadata": {},
   "source": [
    "what we get now is a list of dictionarys, one with word-length = 1, one with word-length = 2, etc.\n",
    "\n",
    " - dicts_upper: only upper-case words (like 'WHO', 'HIV') \n",
    " - dicts_lower: mixed case words\n",
    "\n",
    "better save those dictionarys for later use"
   ]
  },
  {
   "cell_type": "code",
   "execution_count": 3,
   "metadata": {},
   "outputs": [],
   "source": [
    "import pickle\n",
    "\n",
    "with open('MeSH_dict.p', 'wb') as handle:\n",
    "    pickle.dump([dicts_lower,dicts_upper], handle)"
   ]
  },
  {
   "cell_type": "markdown",
   "metadata": {},
   "source": [
    "### extract keywords\n",
    "\n",
    "get a text or an abstract as example.  e.g. one result from search term 'Malaria' from [Livivo](https://www.livivo.de)"
   ]
  },
  {
   "cell_type": "code",
   "execution_count": 4,
   "metadata": {},
   "outputs": [
    {
     "name": "stdout",
     "output_type": "stream",
     "text": [
      "('Malaria is infectious diseases caused by Plasmodium parasite, which '\n",
      " 'transmitted by Anopheles mosquitoes. Although the global burden of malaria '\n",
      " 'has been decreasing in recent years, malaria remains one of the most '\n",
      " 'important infectious diseases, from the point of view of its morbidity and '\n",
      " 'mortality. Imported malaria is one of the major concerns at the evaluation '\n",
      " 'of a febrile illness in a traveler returned from the endemic countries. The '\n",
      " 'diagnosis and management of malaria cases requires much experience and '\n",
      " 'knowledge. We review the epidemiology, pathogenesis, clinical features, '\n",
      " 'diagnosis, prevention and treatment of malaria in Japan.')\n"
     ]
    }
   ],
   "source": [
    "text = 'Malaria is infectious diseases caused by Plasmodium parasite, which transmitted by Anopheles mosquitoes. Although the global burden of malaria has been decreasing in recent years, malaria remains one of the most important infectious diseases, from the point of view of its morbidity and mortality. Imported malaria is one of the major concerns at the evaluation of a febrile illness in a traveler returned from the endemic countries. The diagnosis and management of malaria cases requires much experience and knowledge. We review the epidemiology, pathogenesis, clinical features, diagnosis, prevention and treatment of malaria in Japan.'\n",
    "from pprint import pprint\n",
    "pprint(text)"
   ]
  },
  {
   "cell_type": "code",
   "execution_count": 5,
   "metadata": {},
   "outputs": [
    {
     "data": {
      "text/plain": [
       "{'D003933': {'count': 2, 'term': 'diagnosis', 'pos': [(438, 447), (581, 590)]},\n",
       " 'D010961': {'count': 1, 'term': 'plasmodium', 'pos': [(41, 51)]},\n",
       " 'D007564': {'count': 1, 'term': 'japan', 'pos': [(631, 636)]},\n",
       " 'D008288': {'count': 6,\n",
       "  'term': 'malaria',\n",
       "  'pos': [(0, 7), (135, 142), (180, 187), (307, 314), (466, 473), (620, 627)]},\n",
       " 'D009026': {'count': 1, 'term': 'mortality', 'pos': [(287, 296)]},\n",
       " 'D000852': {'count': 1, 'term': 'anopheles', 'pos': [(83, 92)]},\n",
       " 'D010271': {'count': 1, 'term': 'parasite', 'pos': [(52, 60)]},\n",
       " 'D019359': {'count': 1, 'term': 'knowledge', 'pos': [(509, 518)]},\n",
       " 'D004813': {'count': 1, 'term': 'epidemiology', 'pos': [(534, 546)]},\n",
       " 'D016454': {'count': 1, 'term': 'review', 'pos': [(523, 529)]}}"
      ]
     },
     "execution_count": 5,
     "metadata": {},
     "output_type": "execute_result"
    }
   ],
   "source": [
    "from keyword_extraction import DictLU_Extract_Exact\n",
    "\n",
    "DEE=DictLU_Extract_Exact(dicts_upper,dicts_lower)\n",
    "\n",
    "DEE.run(text)\n",
    "\n",
    "DEE.result"
   ]
  },
  {
   "cell_type": "markdown",
   "metadata": {},
   "source": [
    "for a better visual overview you can also get a simple html with the found words in red.\n",
    "\n",
    "github is not showing the html correctly. no red words. pls check locally"
   ]
  },
  {
   "cell_type": "code",
   "execution_count": 6,
   "metadata": {},
   "outputs": [],
   "source": [
    "DEE.create_html()\n",
    "htmlstring = DEE.html"
   ]
  },
  {
   "cell_type": "code",
   "execution_count": 7,
   "metadata": {},
   "outputs": [
    {
     "data": {
      "text/html": [
       "<!DOCTYPE html> <html>  <head>  <!-- head definitions go here -->    </head>    <body><font color=\"red\">{Malaria}</font> is infectious diseases caused by <font color=\"red\">{Plasmodium}</font> <font color=\"red\">{parasite}</font>, which transmitted by <font color=\"red\">{Anopheles}</font> mosquitoes. Although the global burden of <font color=\"red\">{malaria}</font> has been decreasing in recent years, <font color=\"red\">{malaria}</font> remains one of the most important infectious diseases, from the point of view of its morbidity and <font color=\"red\">{mortality}</font>. Imported <font color=\"red\">{malaria}</font> is one of the major concerns at the evaluation of a febrile illness in a traveler returned from the endemic countries. The <font color=\"red\">{diagnosis}</font> and management of <font color=\"red\">{malaria}</font> cases requires much experience and <font color=\"red\">{knowledge}</font>. We <font color=\"red\">{review}</font> the <font color=\"red\">{epidemiology}</font>, pathogenesis, clinical features, <font color=\"red\">{diagnosis}</font>, prevention and treatment of <font color=\"red\">{malaria}</font> in <font color=\"red\">{Japan}</font>.</body> </html>"
      ],
      "text/plain": [
       "<IPython.core.display.HTML object>"
      ]
     },
     "metadata": {},
     "output_type": "display_data"
    }
   ],
   "source": [
    "from IPython.core.display import display, HTML\n",
    "display(HTML(htmlstring))"
   ]
  }
 ],
 "metadata": {
  "kernelspec": {
   "display_name": "patente",
   "language": "python",
   "name": "patente"
  },
  "language_info": {
   "codemirror_mode": {
    "name": "ipython",
    "version": 3
   },
   "file_extension": ".py",
   "mimetype": "text/x-python",
   "name": "python",
   "nbconvert_exporter": "python",
   "pygments_lexer": "ipython3",
   "version": "3.7.4"
  }
 },
 "nbformat": 4,
 "nbformat_minor": 2
}
