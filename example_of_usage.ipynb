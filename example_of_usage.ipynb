{
 "cells": [
  {
   "cell_type": "markdown",
   "metadata": {},
   "source": [
    "# keyword_extraction\n",
    "\n",
    "extracting keywords (e.g. MeSH terms) from a text using a simple dictionary lookup approach.\n",
    "\n",
    "\n"
   ]
  },
  {
   "cell_type": "markdown",
   "metadata": {},
   "source": [
    "### from raw data to lookup list\n",
    "get the MeSH terms as 'Datenbankfassung' from [here](https://www.dimdi.de/dynamic/de/klassifikationen/weitere-klassifikationen-und-standards/mesh/) and extract. This source is the publisher of the german MeSH 2019. Only the english terms are used here.\n",
    "    "
   ]
  },
  {
   "cell_type": "code",
   "execution_count": null,
   "metadata": {},
   "outputs": [],
   "source": [
    "import pandas as pd\n",
    "MH  = pd.read_csv('MH.TXT',\n",
    "                  sep=';',\n",
    "                  quotechar='|',\n",
    "                  encoding='latin1',\n",
    "                  header=None,\n",
    "                  names=['id','term_german','term','subheadings']\n",
    "                 ).drop(columns=['term_german','subheadings'])\n",
    "\n",
    "ETE = pd.read_csv('ETE.TXT',\n",
    "                  sep=';',\n",
    "                  quotechar='|',\n",
    "                  encoding='latin1',\n",
    "                  header=None,\n",
    "                  names=['term','id','term_german']\n",
    "                 ).drop(columns=['term_german'])[['id','term']]\n",
    "\n",
    "lookuplist = pd.concat([MH,ETE]).reset_index(drop=True)\n",
    "lookuplist.head()"
   ]
  },
  {
   "cell_type": "markdown",
   "metadata": {},
   "source": [
    "you can use any DataFrame structured like this one for extracting keywords. \n",
    "\n",
    "column names are mandatory. \n",
    "\n",
    "be aware that the \"term\" column must be unique!"
   ]
  },
  {
   "cell_type": "markdown",
   "metadata": {},
   "source": [
    "### create dictionary"
   ]
  },
  {
   "cell_type": "code",
   "execution_count": null,
   "metadata": {},
   "outputs": [],
   "source": [
    "from keyword_extraction import DictLU_Create_Dict\n",
    "\n",
    "DCC = DictLU_Create_Dict(lookuplist)\n",
    "dicts_lower = DCC.dicts_lower\n",
    "dicts_upper = DCC.dicts_upper\n",
    "\n",
    "list(dicts_lower[4].items())[:5]"
   ]
  },
  {
   "cell_type": "markdown",
   "metadata": {},
   "source": [
    "what we get now is a list of dictionarys, one with word-length = 1, one with word-length = 2, etc.\n",
    "\n",
    " - dicts_upper: only upper-case words (like 'WHO', 'HIV') \n",
    " - dicts_lower: mixed case words\n",
    "\n",
    "better save those dictionarys for later use"
   ]
  },
  {
   "cell_type": "code",
   "execution_count": null,
   "metadata": {},
   "outputs": [],
   "source": [
    "import pickle\n",
    "\n",
    "with open('MeSH_dict.p', 'wb') as handle:\n",
    "    pickle.dump([dicts_lower,dicts_upper], handle)"
   ]
  },
  {
   "cell_type": "code",
   "execution_count": null,
   "metadata": {},
   "outputs": [],
   "source": [
    "import pickle \n",
    "[dicts_lower,dicts_upper] = pickle.load( open('MeSH_dict.p', \"rb\" ) ) "
   ]
  },
  {
   "cell_type": "code",
   "execution_count": null,
   "metadata": {},
   "outputs": [],
   "source": [
    "dicts_lower[-1]"
   ]
  },
  {
   "cell_type": "markdown",
   "metadata": {},
   "source": [
    "### extract keywords\n",
    "\n",
    "get a text or an abstract as example.  e.g. one result from search term 'Malaria' from [Livivo](https://www.livivo.de)"
   ]
  },
  {
   "cell_type": "code",
   "execution_count": 1,
   "metadata": {},
   "outputs": [
    {
     "name": "stdout",
     "output_type": "stream",
     "text": [
      "Malaria is infectious diseases caused by Plasmodium parasite, which transmitted by Anopheles mosquitoes. Although the global burden of malaria has been decreasing in recent years, malaria remains one of the most important infectious diseases, from the point of view of its morbidity and mortality. Imported malaria is one of the major concerns at the evaluation of a febrile illness in a traveler returned from the endemic countries. The diagnosis and management of malaria cases requires much experience and knowledge. We review the epidemiology, pathogenesis, clinical features, diagnosis, prevention and treatment of malaria in Japan.\n"
     ]
    }
   ],
   "source": [
    "text = 'Malaria is infectious diseases caused by Plasmodium parasite, which transmitted by Anopheles mosquitoes. Although the global burden of malaria has been decreasing in recent years, malaria remains one of the most important infectious diseases, from the point of view of its morbidity and mortality. Imported malaria is one of the major concerns at the evaluation of a febrile illness in a traveler returned from the endemic countries. The diagnosis and management of malaria cases requires much experience and knowledge. We review the epidemiology, pathogenesis, clinical features, diagnosis, prevention and treatment of malaria in Japan.'\n",
    "from pprint import pprint\n",
    "#pprint(text)\n",
    "print(text)"
   ]
  },
  {
   "cell_type": "code",
   "execution_count": 2,
   "metadata": {},
   "outputs": [
    {
     "name": "stdout",
     "output_type": "stream",
     "text": [
      "14\n",
      "['D003141', 'D000852', 'D003933', 'D004813', 'D007564', 'D008288', 'D009017', 'D009026', 'D010961', 'D016454', 'D019359', 'D009033', 'D010271', 'D013812']\n"
     ]
    }
   ],
   "source": [
    "from keyword_extraction import DictLU_Extract_Exact\n",
    "import pickle \n",
    "[dicts_lower,dicts_upper] = pickle.load( open('MeSH_dict.p', \"rb\" ) ) \n",
    "\n",
    "DEE=DictLU_Extract_Exact(dicts_upper,dicts_lower)\n",
    "\n",
    "DEE.fast(text)\n",
    "print(len(DEE.fast_ids))\n",
    "print(DEE.fast_ids)\n"
   ]
  },
  {
   "cell_type": "code",
   "execution_count": 3,
   "metadata": {},
   "outputs": [
    {
     "data": {
      "text/plain": [
       "{'D004813': {'count': 1, 'term': 'epidemiology', 'pos': [(534, 546)]},\n",
       " 'D013812': {'count': 1, 'term': 'treatment', 'pos': [(607, 616)]},\n",
       " 'D003141': {'count': 2,\n",
       "  'term': 'infectious diseases',\n",
       "  'pos': [(11, 30), (222, 241)]},\n",
       " 'D009017': {'count': 1, 'term': 'morbidity', 'pos': [(273, 282)]},\n",
       " 'D009026': {'count': 1, 'term': 'mortality', 'pos': [(287, 296)]},\n",
       " 'D009033': {'count': 1, 'term': 'mosquitoes', 'pos': [(93, 103)]},\n",
       " 'D010961': {'count': 1, 'term': 'plasmodium', 'pos': [(41, 51)]},\n",
       " 'D000852': {'count': 1, 'term': 'anopheles', 'pos': [(83, 92)]},\n",
       " 'D008288': {'count': 6,\n",
       "  'term': 'malaria',\n",
       "  'pos': [(0, 7), (135, 142), (180, 187), (307, 314), (466, 473), (620, 627)]},\n",
       " 'D007564': {'count': 1, 'term': 'japan', 'pos': [(631, 636)]},\n",
       " 'D010271': {'count': 1, 'term': 'parasite', 'pos': [(52, 60)]},\n",
       " 'D019359': {'count': 1, 'term': 'knowledge', 'pos': [(509, 518)]},\n",
       " 'D016454': {'count': 1, 'term': 'review', 'pos': [(523, 529)]},\n",
       " 'D003933': {'count': 2, 'term': 'diagnosis', 'pos': [(438, 447), (581, 590)]}}"
      ]
     },
     "execution_count": 3,
     "metadata": {},
     "output_type": "execute_result"
    }
   ],
   "source": [
    "from keyword_extraction import DictLU_Extract_Exact\n",
    "import pickle \n",
    "[dicts_lower,dicts_upper] = pickle.load( open('MeSH_dict.p', \"rb\" ) ) \n",
    "\n",
    "DEE=DictLU_Extract_Exact(dicts_upper,dicts_lower)\n",
    "\n",
    "DEE.full(text)\n",
    "\n",
    "#print(len(DEE.result))\n",
    "len([x[1]['term'] for x in DEE.result.items()])\n",
    "[x[1]['term'] for x in DEE.result.items()]\n",
    "DEE.result"
   ]
  },
  {
   "cell_type": "code",
   "execution_count": null,
   "metadata": {},
   "outputs": [],
   "source": []
  },
  {
   "cell_type": "code",
   "execution_count": null,
   "metadata": {},
   "outputs": [],
   "source": []
  },
  {
   "cell_type": "code",
   "execution_count": null,
   "metadata": {},
   "outputs": [],
   "source": [
    "\n"
   ]
  },
  {
   "cell_type": "code",
   "execution_count": null,
   "metadata": {},
   "outputs": [],
   "source": []
  },
  {
   "cell_type": "code",
   "execution_count": null,
   "metadata": {},
   "outputs": [],
   "source": [
    " \n",
    "            \n"
   ]
  },
  {
   "cell_type": "code",
   "execution_count": null,
   "metadata": {},
   "outputs": [],
   "source": [
    " "
   ]
  },
  {
   "cell_type": "markdown",
   "metadata": {},
   "source": [
    "for a better visual overview you can also get a simple html with the found words in red.\n",
    "\n",
    "github is not showing the html correctly. no red words. pls check locally"
   ]
  },
  {
   "cell_type": "code",
   "execution_count": 4,
   "metadata": {},
   "outputs": [],
   "source": [
    "DEE.create_html()\n",
    "htmlstring = DEE.html"
   ]
  },
  {
   "cell_type": "code",
   "execution_count": 5,
   "metadata": {},
   "outputs": [
    {
     "data": {
      "text/html": [
       "<!DOCTYPE html> <html>  <head>  <!-- head definitions go here -->    </head>    <body><font color=\"red\">{Malaria}</font> is <font color=\"red\">{infectious diseases}</font> caused by <font color=\"red\">{Plasmodium}</font> <font color=\"red\">{parasite}</font>, which transmitted by <font color=\"red\">{Anopheles}</font> <font color=\"red\">{mosquitoes}</font>. Although the global burden of <font color=\"red\">{malaria}</font> has been decreasing in recent years, <font color=\"red\">{malaria}</font> remains one of the most important <font color=\"red\">{infectious diseases}</font>, from the point of view of its <font color=\"red\">{morbidity}</font> and <font color=\"red\">{mortality}</font>. Imported <font color=\"red\">{malaria}</font> is one of the major concerns at the evaluation of a febrile illness in a traveler returned from the endemic countries. The <font color=\"red\">{diagnosis}</font> and management of <font color=\"red\">{malaria}</font> cases requires much experience and <font color=\"red\">{knowledge}</font>. We <font color=\"red\">{review}</font> the <font color=\"red\">{epidemiology}</font>, pathogenesis, clinical features, <font color=\"red\">{diagnosis}</font>, prevention and <font color=\"red\">{treatment}</font> of <font color=\"red\">{malaria}</font> in <font color=\"red\">{Japan}</font>.</body> </html>"
      ],
      "text/plain": [
       "<IPython.core.display.HTML object>"
      ]
     },
     "metadata": {},
     "output_type": "display_data"
    }
   ],
   "source": [
    "from IPython.core.display import display, HTML\n",
    "display(HTML(htmlstring))"
   ]
  }
 ],
 "metadata": {
  "kernelspec": {
   "display_name": "patente",
   "language": "python",
   "name": "patente"
  },
  "language_info": {
   "codemirror_mode": {
    "name": "ipython",
    "version": 3
   },
   "file_extension": ".py",
   "mimetype": "text/x-python",
   "name": "python",
   "nbconvert_exporter": "python",
   "pygments_lexer": "ipython3",
   "version": "3.7.4"
  }
 },
 "nbformat": 4,
 "nbformat_minor": 2
}
